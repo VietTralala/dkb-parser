{
 "cells": [
  {
   "cell_type": "code",
   "execution_count": 1,
   "metadata": {},
   "outputs": [],
   "source": [
    "from read_pdf_table import Kontoauszug"
   ]
  },
  {
   "cell_type": "code",
   "execution_count": 2,
   "metadata": {},
   "outputs": [
    {
     "data": {
      "text/html": [
       "<div>\n",
       "<style scoped>\n",
       "    .dataframe tbody tr th:only-of-type {\n",
       "        vertical-align: middle;\n",
       "    }\n",
       "\n",
       "    .dataframe tbody tr th {\n",
       "        vertical-align: top;\n",
       "    }\n",
       "\n",
       "    .dataframe thead th {\n",
       "        text-align: right;\n",
       "    }\n",
       "</style>\n",
       "<table border=\"1\" class=\"dataframe\">\n",
       "  <thead>\n",
       "    <tr style=\"text-align: right;\">\n",
       "      <th></th>\n",
       "      <th>Bu.Tag</th>\n",
       "      <th>Wert</th>\n",
       "      <th>Wir haben für Sie gebucht</th>\n",
       "      <th>Belastung in EUR</th>\n",
       "      <th>Gutschrift in EUR</th>\n",
       "    </tr>\n",
       "  </thead>\n",
       "  <tbody>\n",
       "    <tr>\n",
       "      <th>0</th>\n",
       "      <td>2020-10-29</td>\n",
       "      <td>2020-10-29</td>\n",
       "      <td>Dauerauftrag Max Mustermann SVWZ+Test zurueck</td>\n",
       "      <td>700,00</td>\n",
       "      <td>NaN</td>\n",
       "    </tr>\n",
       "    <tr>\n",
       "      <th>1</th>\n",
       "      <td>2020-10-29</td>\n",
       "      <td>2020-10-29</td>\n",
       "      <td>Zahlungseingang Max Mustermann SVWZ+Test</td>\n",
       "      <td>NaN</td>\n",
       "      <td>700,00</td>\n",
       "    </tr>\n",
       "    <tr>\n",
       "      <th>2</th>\n",
       "      <td>2020-11-02</td>\n",
       "      <td>2020-11-02</td>\n",
       "      <td>Dauerauftrag Max Mustermann SVWZ+Test2</td>\n",
       "      <td>1,00</td>\n",
       "      <td>NaN</td>\n",
       "    </tr>\n",
       "  </tbody>\n",
       "</table>\n",
       "</div>"
      ],
      "text/plain": [
       "      Bu.Tag       Wert                      Wir haben für Sie gebucht  \\\n",
       "0 2020-10-29 2020-10-29  Dauerauftrag Max Mustermann SVWZ+Test zurueck   \n",
       "1 2020-10-29 2020-10-29       Zahlungseingang Max Mustermann SVWZ+Test   \n",
       "2 2020-11-02 2020-11-02         Dauerauftrag Max Mustermann SVWZ+Test2   \n",
       "\n",
       "  Belastung in EUR Gutschrift in EUR  \n",
       "0           700,00               NaN  \n",
       "1              NaN            700,00  \n",
       "2             1,00               NaN  "
      ]
     },
     "execution_count": 2,
     "metadata": {},
     "output_type": "execute_result"
    }
   ],
   "source": [
    "f = \"Kontoauszug_1061733174_Nr_2020_011_per_2020_11_02 (copy).pdf\"\n",
    "\n",
    "auszug = Kontoauszug(f)\n",
    "auszug.df"
   ]
  },
  {
   "cell_type": "code",
   "execution_count": null,
   "metadata": {},
   "outputs": [],
   "source": [
    "from glob import glob\n",
    "\n",
    "files = glob('./Kontoauszug*.pdf')\n",
    "\n",
    "kas = []\n",
    "for f in files:\n",
    "    print(f)\n",
    "    kas.append(Kontoauszug(f))\n"
   ]
  },
  {
   "cell_type": "code",
   "execution_count": 4,
   "metadata": {},
   "outputs": [
    {
     "name": "stderr",
     "output_type": "stream",
     "text": [
      "read pdf files: 100%|██████████| 34/34 [00:32<00:00,  1.05it/s]\n"
     ]
    }
   ],
   "source": [
    "# with joblib parallelization:\n",
    "from joblib import Parallel, delayed\n",
    "from tqdm_joblib import tqdm_joblib\n",
    "\n",
    "with tqdm_joblib(desc=\"read pdf files\", total=len(files)) as progress_bar:\n",
    "    kas = Parallel(n_jobs=4)(delayed(Kontoauszug)(f) for f in files)\n"
   ]
  },
  {
   "cell_type": "code",
   "execution_count": null,
   "metadata": {},
   "outputs": [],
   "source": []
  }
 ],
 "metadata": {
  "interpreter": {
   "hash": "07e1cf01c5220b04e9f7e024c3bc4d240e40acae336c57b071f2fd617de0e164"
  },
  "kernelspec": {
   "display_name": "Python 3",
   "language": "python",
   "name": "python3"
  },
  "language_info": {
   "codemirror_mode": {
    "name": "ipython",
    "version": 3
   },
   "file_extension": ".py",
   "mimetype": "text/x-python",
   "name": "python",
   "nbconvert_exporter": "python",
   "pygments_lexer": "ipython3",
   "version": "3.9.6"
  }
 },
 "nbformat": 4,
 "nbformat_minor": 4
}
